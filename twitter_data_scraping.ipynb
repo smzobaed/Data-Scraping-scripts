{
 "cells": [
  {
   "cell_type": "code",
   "execution_count": 1,
   "id": "a078f0b5-648e-4130-8098-43af938bb3a4",
   "metadata": {},
   "outputs": [],
   "source": [
    "import tweepy\n",
    "import datetime"
   ]
  },
  {
   "cell_type": "code",
   "execution_count": null,
   "id": "a1b5bbfb-ca98-4ae1-9354-8db21255e798",
   "metadata": {},
   "outputs": [],
   "source": [
    "\n",
    "# Twitter API credentials\n",
    "consumer_key = ''\n",
    "consumer_secret = ''\n",
    "access_key = ''\n",
    "access_secret = ''\n",
    "\n",
    "# Authenticate with the Twitter API\n",
    "auth = tweepy.OAuthHandler(consumer_key, consumer_secret)\n",
    "auth.set_access_token(access_key, access_secret)\n",
    "\n",
    "# Create the API object\n",
    "api = tweepy.API(auth, wait_on_rate_limit=True, wait_on_rate_limit_notify=True)\n",
    "\n",
    "# Define the search query and date range\n",
    "search_query = \"car\"\n",
    "since_date = datetime.datetime.now() - datetime.timedelta(days=5*365)\n",
    "since_id = None\n",
    "\n",
    "# Fetch the tweets\n",
    "tweets = tweepy.Cursor(api.search_tweets,\n",
    "                       q=search_query,\n",
    "                       lang=\"en\",\n",
    "                       since_id=since_id,\n",
    "                       since_id=since_date.strftime('%Y-%m-%d')).items()\n",
    "\n",
    "# Iterate over the tweets and fetch their comments\n",
    "for tweet in tweets:\n",
    "    # Print the tweet text\n",
    "    print(tweet.text)\n",
    "    \n",
    "    # Fetch the comments for the tweet\n",
    "    comments = api.search(q=\"to:\"+tweet.user.screen_name, since_id=tweet.id_str)\n",
    "    \n",
    "    # Iterate over the comments and print their text\n",
    "    for comment in comments:\n",
    "        print(\"  - \" + comment.text)"
   ]
  },
  {
   "cell_type": "code",
   "execution_count": null,
   "id": "5c4595f7-2ef4-43c4-85c0-6f8f8f374ff4",
   "metadata": {},
   "outputs": [],
   "source": []
  },
  {
   "cell_type": "code",
   "execution_count": null,
   "id": "a0e2d1b4-850e-45d1-aeb3-198eb76889e0",
   "metadata": {},
   "outputs": [],
   "source": []
  }
 ],
 "metadata": {
  "kernelspec": {
   "display_name": "Py3.9 TF2.8.0 HugFace 20220429",
   "language": "python",
   "name": "cog20220429_py3.9_tf2.8.0"
  },
  "language_info": {
   "codemirror_mode": {
    "name": "ipython",
    "version": 3
   },
   "file_extension": ".py",
   "mimetype": "text/x-python",
   "name": "python",
   "nbconvert_exporter": "python",
   "pygments_lexer": "ipython3",
   "version": "3.9.16"
  }
 },
 "nbformat": 4,
 "nbformat_minor": 5
}
