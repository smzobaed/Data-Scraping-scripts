{
 "cells": [
  {
   "cell_type": "code",
   "execution_count": 8,
   "id": "e04c6a39-f492-482e-9d74-c66a9ace4db6",
   "metadata": {},
   "outputs": [
    {
     "name": "stdout",
     "output_type": "stream",
     "text": [
      "https://aa1car.com\n",
      "62links for: aa1car.com\n"
     ]
    },
    {
     "name": "stderr",
     "output_type": "stream",
     "text": [
      "Some characters could not be decoded, and were replaced with REPLACEMENT CHARACTER.\n"
     ]
    },
    {
     "name": "stdout",
     "output_type": "stream",
     "text": [
      "https://onlymanuals.com\n",
      "295links for: onlymanuals.com\n",
      "https://alldatadiy.com\n",
      "0links for: alldatadiy.com\n",
      "https://workshop-manuals.com\n",
      "111links for: workshop-manuals.com\n",
      "https://automd.com\n",
      "131links for: automd.com\n",
      "https://eautorepair.net\n",
      "34links for: eautorepair.net\n",
      "https://autoserviceprofessional.com\n",
      "158links for: autoserviceprofessional.com\n",
      "https://cardiagn.com\n",
      "1links for: cardiagn.com\n",
      "https://motor.com\n",
      "132links for: motor.com\n",
      "https://emanualonline.com\n",
      "231links for: emanualonline.com\n",
      "https://underhoodservice.com\n",
      "256links for: underhoodservice.com\n",
      "https://sae.org\n",
      "161links for: sae.org\n",
      "https://transmissiondigest.com\n",
      "192links for: transmissiondigest.com\n",
      "https://fixhybrid.com\n",
      "https://motoragetraining.com\n",
      "170links for: motoragetraining.com\n",
      "https://tstseminars.org\n",
      "74links for: tstseminars.org\n",
      "https://jameshalderman.com/at6-f\n",
      "40links for: jameshalderman.com/at6-f\n",
      "https://chiltondiy.com\n",
      "2links for: chiltondiy.com\n",
      "https://haynes.com/en-us/car-manuals\n",
      "178links for: haynes.com/en-us/car-manuals\n",
      "https://autoeducation.com/free_repair_manuals.htm\n",
      "76links for: autoeducation.com/free_repair_manuals.htm\n"
     ]
    }
   ],
   "source": [
    "\n",
    "import requests\n",
    "from bs4 import BeautifulSoup\n",
    "import re\n",
    "import os\n",
    "# send an HTTP request to the website\n",
    "\n",
    "websites = [ \"pistonheads.com\",    \"barrett-jackson.com\",    \"thetruthaboutcars.com\",    \"bimmerpost.com\",   \n",
    "            \"indianautosblog.com\",    \"oldcarsweekly.com\"]\n",
    "websites = [\"carcomplaints.com\",    \"thetorquereport.com\",    \"benzinsider.com\",    \n",
    "            \"conceptcarz.com\",    \"thecarexpert.co.uk\",    \"hydrogencarsnow.com\",    \"automotorblog.com\",    \n",
    "            \"bmwcoop.com\",    \"clublexus.com\",    \"bangshift.com\",    \"musclecarfacts.com\",    \"ford-trucks.com\",   \n",
    "            \"chargedevs.com\",    \"electrek.co\",    \"insideevs.com\",    \"cleantechnica.com\",    \"electrive.com\",    \n",
    "            \"junkcarmedics.com\",    \"iwantscrap.com/blog\",    \"hyundai.news/eu.html\"]\n",
    "\n",
    "\n",
    "websites = ['aa1car.com', 'onlymanuals.com', 'alldatadiy.com', 'workshop-manuals.com',\n",
    "            'automd.com', 'eautorepair.net', 'autoserviceprofessional.com',\n",
    "            'cardiagn.com', 'motor.com', \n",
    "            'emanualonline.com', 'underhoodservice.com', 'sae.org', \n",
    "            'transmissiondigest.com', 'fixhybrid.com', \n",
    "            'motoragetraining.com', 'tstseminars.org',\n",
    "            'jameshalderman.com/at6-f', 'chiltondiy.com', 'haynes.com/en-us/car-manuals',\n",
    "            'autoeducation.com/free_repair_manuals.htm']\n",
    "folder_name = [  \"pistonheads\",    \"barrett-jackson\",    \"thetruthaboutcars\",    \"bimmerpost\",    \"indianautosblog\",    \"oldcarsweekly\"]  \n",
    "folder_name = [ \"carcomplaints\",    \"thetorquereport\",    \"benzinsider\",    \"conceptcarz\",    \"thecarexpert\",    \n",
    "               \"hydrogencarsnow\",    \"automotorblog\",    \"bmwcoop\",    \"clublexus\",    \n",
    "               \"bangshift\",    \"musclecarfacts\",    \"ford-trucks\",    \n",
    "               \"chargedevs\",    \"electrek\",    \"insideevs\",    \"cleantechnica\",    \n",
    "               \"electrive\",    \"junkcarmedics\",    \"iwantscrap_blog\",    \"hyundai.news_eu\"]\n",
    "\n",
    "folder_name = ['aa1car', 'onlymanuals', 'alldatadiy', 'workshop-manuals',\n",
    "                      'automd', 'eautorepair', 'autoserviceprofessional',\n",
    "                      'cardiagn', 'motor', 'emanualonline',\n",
    "                      'underhoodservice', 'sae', 'transmissiondigest', \n",
    "                      'fixhybrid', 'motoragetraining',\n",
    "                      'tstseminars', 'jameshalderman', 'chiltondiy', 'haynes', \n",
    "                      'autoeducation']\n",
    "    \n",
    "headers = {\n",
    "    'User-Agent': 'Mozilla/5.0 (Windows NT 10.0; Win64; x64) AppleWebKit/537.36 (KHTML, like Gecko) Chrome/58.0.3029.110 Safari/537.36'\n",
    "}\n",
    "iter_=0\n",
    "for url in websites:\n",
    "    print('https://'+url)\n",
    "    try:\n",
    "        response = requests.get('https://'+url, headers=headers, timeout=10)\n",
    "    except:\n",
    "        continue\n",
    "    soup = BeautifulSoup(response.content, 'html.parser')\n",
    "\n",
    "    # extract all links on the website\n",
    "    links = []\n",
    "    for link in soup.find_all('a'):\n",
    "        href = link.get('href')\n",
    "        if href is not None:\n",
    "            links.append(href)\n",
    "\n",
    "    print(str(len(links))+'links for: '+ url)\n",
    "    os.makedirs(folder_name[iter_], exist_ok=True)\n",
    "    traversing_writing(links,base_url= url,title=folder_name[iter_])\n",
    "    iter_+=1"
   ]
  },
  {
   "cell_type": "code",
   "execution_count": null,
   "id": "5a66ac66-19f2-4cd8-97f1-60073fe9085c",
   "metadata": {},
   "outputs": [],
   "source": []
  },
  {
   "cell_type": "code",
   "execution_count": 2,
   "id": "cfb9e3c5-4609-48dd-80db-ff386b5cf96b",
   "metadata": {},
   "outputs": [],
   "source": [
    "# filter out the links that correspond to the pages you want to scrape\n",
    "#pages = [link for link in links if '/dear-cartalk/' in link]\n",
    "\n",
    "\n",
    "def traversing_writing(links,base_url,title):\n",
    "    timeout = (5, 10)\n",
    "    pages=links #to capture all\n",
    "    #for checking purpose\n",
    "    # loop through the pages\n",
    "    #pages=['https://www.autoblog.com/2023/03/21/eu-mercedes-diesel-defeat-device-compensation/']\n",
    "    for page in pages:\n",
    "        if len(page)>1 and \"/\" in page[-1]:\n",
    "            page=page[:-1]\n",
    "        if 'https://' in page:\n",
    "            url=page\n",
    "        else:\n",
    "            url = base_url+f\"{page}\" # modify the URL to include the page name or URL\n",
    "\n",
    "        try:\n",
    "            #print(url)\n",
    "            response = requests.get(url,headers=headers,timeout=timeout)\n",
    "            soup = BeautifulSoup(response.content, 'html.parser')\n",
    "            #print(response)\n",
    "            # extract all text data from the page\n",
    "            text_data = soup.get_text()\n",
    "            total_text=\"\"\n",
    "            #print(soup.find_all(\"p\"))\n",
    "            \n",
    "            for para in soup.find_all(\"p\"):\n",
    "                total_text=total_text + \" \" + para.get_text()\n",
    "            # clean the data\n",
    "            text_data = total_text \n",
    "            #text_data = re.sub(\"[^A-Za-z0-9.,;_@\\\\\\']+\", \" \", text_data)\n",
    "            #text_data = text_data.strip()\n",
    "            #print(text_data)\n",
    "            # store the data in a file\n",
    "            with open(f'{title}'+'/' +f'{page.split(\"/\")[-1]}.txt', 'w', encoding='utf-8') as f:\n",
    "                f.write(text_data)\n",
    "        except:\n",
    "            continue\n"
   ]
  },
  {
   "cell_type": "code",
   "execution_count": 27,
   "id": "0d6a96e7-64e3-4734-979e-7ba2b62f9433",
   "metadata": {},
   "outputs": [],
   "source": []
  },
  {
   "cell_type": "code",
   "execution_count": null,
   "id": "756ad5db-2920-48c3-83c7-2214551aa6d4",
   "metadata": {},
   "outputs": [],
   "source": []
  },
  {
   "cell_type": "code",
   "execution_count": null,
   "id": "31269ee5-4a65-4867-8dbe-8a7fe2c9a478",
   "metadata": {},
   "outputs": [],
   "source": [
    "'''\n",
    "Data cleaning\n",
    "'''\n",
    "import re\n",
    "a=\"it's\"\n",
    "c=re.sub(\"[^A-Za-z0-9.,;_@']+\", ' ',a)\n",
    "print(c)"
   ]
  },
  {
   "cell_type": "code",
   "execution_count": 2,
   "id": "e262e440-50e3-4c68-8c34-a734ac37d6a7",
   "metadata": {},
   "outputs": [],
   "source": [
    "a= \" PlugIn Stations Online is an East Coast installer and distributor of EV charging equipment. It's among the first in the world to install a hydro powered EV charger operating off 100 percent clean energy. Auto tech veteran Shauna McIntyre talks about the implications of the collapse of Silicon Valley Bank for the auto industry. 2022 Automotive News All Stars 2022 Best Dealerships To Work For 2022 Future Product roundup The evolution of the Detroit auto show Key changes in auto safety, connectivity and manufacturing 2022 Top suppliers We tracked 2021's\""
   ]
  },
  {
   "cell_type": "code",
   "execution_count": 3,
   "id": "fd22c842-7344-4c4d-a842-1898b0c210d2",
   "metadata": {},
   "outputs": [],
   "source": [
    "c=re.sub(\"[^A-Za-z0-9.,;_@']+\", ' ',a)"
   ]
  },
  {
   "cell_type": "code",
   "execution_count": 4,
   "id": "5fad24fb-047e-48cf-99de-d8789f7f7821",
   "metadata": {},
   "outputs": [
    {
     "data": {
      "text/plain": [
       "\" PlugIn Stations Online is an East Coast installer and distributor of EV charging equipment. It's among the first in the world to install a hydro powered EV charger operating off 100 percent clean energy. Auto tech veteran Shauna McIntyre talks about the implications of the collapse of Silicon Valley Bank for the auto industry. 2022 Automotive News All Stars 2022 Best Dealerships To Work For 2022 Future Product roundup The evolution of the Detroit auto show Key changes in auto safety, connectivity and manufacturing 2022 Top suppliers We tracked 2021's\""
      ]
     },
     "execution_count": 4,
     "metadata": {},
     "output_type": "execute_result"
    }
   ],
   "source": [
    "c"
   ]
  },
  {
   "cell_type": "code",
   "execution_count": null,
   "id": "99a0654a-3d26-4990-8241-85a91438aedf",
   "metadata": {},
   "outputs": [],
   "source": [
    "import tweepy\n",
    "import datetime\n",
    "\n",
    "# Twitter API credentials\n",
    "consumer_key = ''\n",
    "consumer_secret = ''\n",
    "access_key = ''\n",
    "access_secret = ''\n",
    "\n",
    "# Authenticate with the Twitter API\n",
    "auth = tweepy.OAuthHandler(consumer_key, consumer_secret)\n",
    "auth.set_access_token(access_key, access_secret)\n",
    "\n",
    "# Create the API object\n",
    "api = tweepy.API(auth, wait_on_rate_limit=True, wait_on_rate_limit_notify=True)\n",
    "\n",
    "# Define the search query and date range\n",
    "search_query = \"car\"\n",
    "since_date = datetime.datetime.now() - datetime.timedelta(days=5*365)\n",
    "since_id = None\n",
    "\n",
    "# Fetch the tweets\n",
    "tweets = tweepy.Cursor(api.search_tweets,\n",
    "                       q=search_query,\n",
    "                       lang=\"en\",\n",
    "                       since_id=since_id,\n",
    "                       since_id=since_date.strftime('%Y-%m-%d')).items()\n",
    "\n",
    "# Iterate over the tweets and fetch their comments\n",
    "for tweet in tweets:\n",
    "    # Print the tweet text\n",
    "    print(tweet.text)\n",
    "    \n",
    "    # Fetch the comments for the tweet\n",
    "    comments = api.search(q=\"to:\"+tweet.user.screen_name, since_id=tweet.id_str)\n",
    "    \n",
    "    # Iterate over the comments and print their text\n",
    "    for comment in comments:\n",
    "        print(\"  - \" + comment.text)"
   ]
  }
 ],
 "metadata": {
  "kernelspec": {
   "display_name": "Py3.9 TF2.8.0 HugFace 20220429",
   "language": "python",
   "name": "cog20220429_py3.9_tf2.8.0"
  },
  "language_info": {
   "codemirror_mode": {
    "name": "ipython",
    "version": 3
   },
   "file_extension": ".py",
   "mimetype": "text/x-python",
   "name": "python",
   "nbconvert_exporter": "python",
   "pygments_lexer": "ipython3",
   "version": "3.9.16"
  }
 },
 "nbformat": 4,
 "nbformat_minor": 5
}
