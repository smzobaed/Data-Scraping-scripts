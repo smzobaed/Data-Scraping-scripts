{
 "cells": [
  {
   "cell_type": "code",
   "execution_count": null,
   "id": "465224fc-32f2-4e17-b10e-990343c64482",
   "metadata": {},
   "outputs": [],
   "source": [
    "import praw\n",
    "import os\n",
    "\n"
   ]
  },
  {
   "cell_type": "code",
   "execution_count": null,
   "id": "b3ac0e53-d989-4032-8c31-2e99f4388028",
   "metadata": {},
   "outputs": [],
   "source": [
    "reddit = praw.Reddit(client_id='my_client_id', client_secret='my_client_secret', user_agent='my_user_agent')\n",
    "#removed my credentials before upload"
   ]
  },
  {
   "cell_type": "code",
   "execution_count": null,
   "id": "c9d445a3-875e-4a1d-88fd-35f8d6047f6a",
   "metadata": {},
   "outputs": [],
   "source": [
    "subreddits = [\"cars\", \"WhatCarShouldIBuy\", \"AskCarSales\", \"CarBuying\", \"UsedCars\",\n",
    "              \"AskCarGuys\", \"AutomotiveLearning\", \"CrashTests\", \"CarHacking\", \"MechanicalAdvice\",\n",
    "              \"Convertible\", \"Hatchback\", \"Trucks\",\n",
    "              \"ElectricVehicles\", \"Ford\", \"Jeep\", \"Toyota\"]\n",
    "\n",
    "new_subreddits=[\"240sx\",\"4Runner\",\"4x4\",\"askcarguys\",\"askcarsales\",\"Audi\",\"Autocross\",\"AutoDetailing\",\"Autos\",\"AwesomeCarMods\",\"battlewagon\",\"bikesgonewild\",\"BMW\",\"BmwTech\",\"boating\",\"CafeRacers\",\"CalamariRaceTeam\",\"camaro\",\"CarAV\",\"carporn\",\"Cartalk\",\"CherokeeXJ\",\"Chevy\",\"classiccars\",\"coolcarsforsale\",\"Corvette\",\"Datsun\",\"Diesel\",\"Dodge\",\"Drifting\",\"Dualsport\",\"E30\",\"exoticspotting\",\"Ferrari\",\"FiestaST\",\"Fixxit\",\"FocusST\",\"Ford\",\"FordFocus\",\"fordranger\",\"foxmustang\",\"ft86\",\"GolfGTI\",\"GrandCherokee\",\"Honda\",\"HondaCB\",\"infiniti\",\"Jeep\",\"Justrolledintotheshop\",\"Lexus\",\"mazda\",\"mazda3\",\"MechanicAdvice\",\"mercedes_benz\",\"Miata\",\"MINI\",\"mitsubishi\",\"Motocross\",\"motorcycles\",\"MTB\",\"Mustang\",\"Nissan\",\"overlanding\",\"plastidip\",\"Porsche\",\"projectcar\",\"rally\",\"rccars\",\"regularcarreviews\",\"Roadcam\",\"RoastMyCar\",\"S2000\",\"saab\",\"Shitty_Car_Mods\",\"shootingcars\",\"spotted\",\"Stance\",\"subaru\",\"supermoto\",\"SVRiders\",\"tdi\",\"thewholecar\",\"Tools\",\"TopGear\",\"Toyota\",\"ToyotaTacoma\",\"Trucks\",\"UserCars\",\"Volkswagen\",\"Volvo\"]\n",
    "\n",
    "not_in_subreddits = [item for item in  if item not in subreddits]\n"
   ]
  },
  {
   "cell_type": "code",
   "execution_count": null,
   "id": "abe6793e-f74b-4281-bf0d-39725d34b305",
   "metadata": {},
   "outputs": [],
   "source": [
    "subreddits = [\"cars\", \"WhatCarShouldIBuy\", \"AskCarSales\", \"CarBuying\", \"UsedCars\",\n",
    "              \"AskCarGuys\", \"AutomotiveLearning\", \"CrashTests\", \"CarHacking\", \"MechanicalAdvice\",\n",
    "              \"Convertible\", \"Hatchback\", \"Trucks\",\n",
    "              \"ElectricVehicles\", \"Ford\", \"Jeep\", \"Toyota\"]\n",
    "\n",
    "\n",
    "\n",
    "# iterate over the subreddits and then not_in_subreddits\n",
    "for subreddit_name in not_in_subreddits:\n",
    "    # create a directory for the current subreddit\n",
    "    os.makedirs(subreddit_name, exist_ok=True)\n",
    "    \n",
    "    # scrape the hot posts from the subreddit\n",
    "    subreddit = reddit.subreddit(subreddit_name)\n",
    "    hot_posts = subreddit.hot(limit=20000)\n",
    "    \n",
    "    # iterate over the hot posts\n",
    "    for post in hot_posts:\n",
    "        a = post.selftext\n",
    "        a = a.replace(\"&#x200B;\", \"\")\n",
    "        submission = reddit.submission(id=post.id)\n",
    "        \n",
    "        # iterate over the comments in the post\n",
    "        for top_level_comment in submission.comments:\n",
    "            try:\n",
    "                top_level_comments = top_level_comment.body\n",
    "                top_level_comments = top_level_comments.replace(\"&#x200B;\", \"\")\n",
    "                a = a + \" \" + top_level_comments\n",
    "            except:\n",
    "                continue\n",
    "        \n",
    "        # write the post content to a file in the current subreddit directory\n",
    "        with open(os.path.join(subreddit_name, post.id + '.txt'), 'w', encoding='utf-8') as f:\n",
    "            f.write(a)"
   ]
  }
 ],
 "metadata": {
  "kernelspec": {
   "display_name": "Py3.9 TF2.8.0 HugFace 20220429",
   "language": "python",
   "name": "cog20220429_py3.9_tf2.8.0"
  },
  "language_info": {
   "codemirror_mode": {
    "name": "ipython",
    "version": 3
   },
   "file_extension": ".py",
   "mimetype": "text/x-python",
   "name": "python",
   "nbconvert_exporter": "python",
   "pygments_lexer": "ipython3",
   "version": "3.9.16"
  }
 },
 "nbformat": 4,
 "nbformat_minor": 5
}
